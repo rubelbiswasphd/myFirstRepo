{
 "cells": [
  {
   "cell_type": "markdown",
   "id": "478b4b03-c645-4de1-b17c-dd033823d503",
   "metadata": {},
   "source": [
    "# Data Science Tools and Ecosystem"
   ]
  },
  {
   "cell_type": "markdown",
   "id": "609db719-7c8e-40aa-8680-76dbdb6bdb1c",
   "metadata": {},
   "source": [
    "In this notebook, Data Science Tools and Ecosystem are summarized."
   ]
  },
  {
   "cell_type": "markdown",
   "id": "287f5930-44ca-44e7-b032-19c80c83b1e6",
   "metadata": {},
   "source": [
    "**Objectives:**\n",
    "\n",
    "- List popular languages for Data Science.\n",
    "- Demonstrate how to perform arithmetic expressions in Python.\n",
    "- Convert minutes into hours in Python.\n",
    "- Understand the commonly used libraries in Data Science."
   ]
  },
  {
   "cell_type": "markdown",
   "id": "753c8a34-44b1-4dd7-8f21-54b2b01464a5",
   "metadata": {},
   "source": [
    "Some of the popular languages that Data Scientists use are:\n",
    "\n",
    "1. Python\n",
    "2. R\n",
    "3. SQL"
   ]
  },
  {
   "cell_type": "markdown",
   "id": "54de2a1b-5b4d-4aa6-9adc-34c28f4a80cf",
   "metadata": {},
   "source": [
    "Some of the commonly used libraries used by Data Scientists include:\n",
    "\n",
    "1. Pandas\n",
    "2. NumPy\n",
    "3. Scikit-learn\n",
    "4. Matplotlib"
   ]
  },
  {
   "cell_type": "markdown",
   "id": "d368b1f2-b243-42c9-83ec-a8f4decddb56",
   "metadata": {},
   "source": [
    "| Data Science Tools     |\n",
    "| :--------------------- |\n",
    "| Jupyter Notebooks      |\n",
    "| RStudio                |\n",
    "| VS Code                |\n"
   ]
  },
  {
   "cell_type": "markdown",
   "id": "343b4193-f375-4e85-88cc-34c59f954729",
   "metadata": {},
   "source": [
    "### Below are a few examples of evaluating arithmetic expressions in Python"
   ]
  },
  {
   "cell_type": "code",
   "execution_count": 1,
   "id": "06d4a5ec-b63a-41cd-a83c-6c059dce00db",
   "metadata": {},
   "outputs": [
    {
     "data": {
      "text/plain": [
       "17"
      ]
     },
     "execution_count": 1,
     "metadata": {},
     "output_type": "execute_result"
    }
   ],
   "source": [
    "# This is a simple arithmetic expression to multiply then add integers.\n",
    "result = (3 * 4) + 5\n",
    "result"
   ]
  },
  {
   "cell_type": "code",
   "execution_count": 2,
   "id": "623bb32b-8f8c-4ef0-b777-65821f9ba10a",
   "metadata": {},
   "outputs": [
    {
     "data": {
      "text/plain": [
       "3.3333333333333335"
      ]
     },
     "execution_count": 2,
     "metadata": {},
     "output_type": "execute_result"
    }
   ],
   "source": [
    "# This is an expression to convert 200 minutes into hours.\n",
    "minutes = 200\n",
    "hours = minutes / 60\n",
    "hours"
   ]
  },
  {
   "cell_type": "markdown",
   "id": "3323acf8-539b-4486-b8d6-1b94dae1825d",
   "metadata": {},
   "source": [
    "## Author\n",
    "Rubel Biswas"
   ]
  },
  {
   "cell_type": "code",
   "execution_count": null,
   "id": "bd4d62f5-d55a-4d1d-a16f-bd0f3571e2b5",
   "metadata": {},
   "outputs": [],
   "source": []
  }
 ],
 "metadata": {
  "kernelspec": {
   "display_name": "Python 3 (ipykernel)",
   "language": "python",
   "name": "python3"
  },
  "language_info": {
   "codemirror_mode": {
    "name": "ipython",
    "version": 3
   },
   "file_extension": ".py",
   "mimetype": "text/x-python",
   "name": "python",
   "nbconvert_exporter": "python",
   "pygments_lexer": "ipython3",
   "version": "3.12.8"
  }
 },
 "nbformat": 4,
 "nbformat_minor": 5
}
